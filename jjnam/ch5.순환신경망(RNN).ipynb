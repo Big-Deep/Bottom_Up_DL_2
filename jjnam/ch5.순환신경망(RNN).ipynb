{
 "cells": [
  {
   "cell_type": "code",
   "execution_count": 1,
   "metadata": {},
   "outputs": [],
   "source": [
    "# coding : utf-8\r\n",
    "from common.np import *\r\n",
    "from common.layers import *\r\n",
    "from common.functions import sigmoid"
   ]
  },
  {
   "cell_type": "code",
   "execution_count": 3,
   "metadata": {},
   "outputs": [],
   "source": [
    "class RNN:\r\n",
    "    def __init__(self, Wx, Wh, b):\r\n",
    "        self.params = [Wx, Wh, b]\r\n",
    "        self.grads = [np.zeros_like(Wx), np.zeros_like(Wh), np.zeros_like(b)]\r\n",
    "        self.cache = None\r\n",
    "    \r\n",
    "    def forward(self, x, h_prev):\r\n",
    "        Wx, Wh, b = self.params\r\n",
    "        t = np.dot(h_prev, Wh) + np.dot(x, Wx) + b\r\n",
    "        h_next = np.tanh(t)\r\n",
    "\r\n",
    "        self.cache = (x, h_prev, h_next)\r\n",
    "        return h_next\r\n",
    "\r\n",
    "    def backward(self, dh_next):\r\n",
    "        Wx, Wh, b = self.params\r\n",
    "        x, h_prev, h_next = self.cache\r\n",
    "\r\n",
    "        dt = dh_next * (1 - h_next ** 2)\r\n",
    "        db = np.sum(dt, axis=0)\r\n",
    "        dWh = np.dot(h_prev.T, dt)\r\n",
    "        dh_prev = np.dot(dt, Wh.T)\r\n",
    "        dWx = np.dot(x.T, dt)\r\n",
    "        dx = np.dot(dt, Wx.T)\r\n",
    "\r\n",
    "        self.grads[0][...] = dWx\r\n",
    "        self.grads[1][...] = dWh\r\n",
    "        self.grads[2][...] = db\r\n",
    "\r\n",
    "        return dx, dh_prev"
   ]
  },
  {
   "cell_type": "code",
   "execution_count": null,
   "metadata": {},
   "outputs": [],
   "source": []
  },
  {
   "cell_type": "code",
   "execution_count": null,
   "metadata": {},
   "outputs": [],
   "source": []
  },
  {
   "cell_type": "code",
   "execution_count": null,
   "metadata": {},
   "outputs": [],
   "source": []
  },
  {
   "cell_type": "code",
   "execution_count": null,
   "metadata": {},
   "outputs": [],
   "source": []
  },
  {
   "cell_type": "code",
   "execution_count": null,
   "metadata": {},
   "outputs": [],
   "source": []
  },
  {
   "cell_type": "code",
   "execution_count": null,
   "metadata": {},
   "outputs": [],
   "source": []
  },
  {
   "cell_type": "code",
   "execution_count": null,
   "metadata": {},
   "outputs": [],
   "source": []
  }
 ],
 "metadata": {
  "kernelspec": {
   "display_name": "Python 3.8.6 64-bit ('nam1': conda)",
   "name": "python386jvsc74a57bd058a9dcd4e6286f6e25d63828a902a82543470613f6f73e6210cb3e460af64fba"
  },
  "language_info": {
   "codemirror_mode": {
    "name": "ipython",
    "version": 3
   },
   "file_extension": ".py",
   "mimetype": "text/x-python",
   "name": "python",
   "nbconvert_exporter": "python",
   "pygments_lexer": "ipython3",
   "version": "3.8.6"
  },
  "orig_nbformat": 2
 },
 "nbformat": 4,
 "nbformat_minor": 2
}
